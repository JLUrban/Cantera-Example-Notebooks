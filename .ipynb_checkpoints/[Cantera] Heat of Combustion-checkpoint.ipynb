{
 "cells": [
  {
   "cell_type": "markdown",
   "metadata": {},
   "source": [
    "# Calculating Heat of Combustion\n",
    "*James L Urban, Daniel I Pineda and Carlos Fernandez-Pello*, 2017"
   ]
  },
  {
   "cell_type": "markdown",
   "metadata": {},
   "source": [
    "### Import Packages\n",
    "- [cantera](http://www.cantera.org/docs/sphinx/html/index.html): A Combustion Chemistry Python Module \n",
    "    - Chemical Equilibrium\n",
    "    - 1-D Flame Speed\n",
    "    - Surface Chemistry\n",
    "- [numpy](http://www.numpy.org/): A Mathematical Function Libary (similiar functions to MATLAB) \n",
    "    - Linear Algegra\n",
    "    - Root Finding\n",
    "    - Simple Data Analysis\n",
    "- [matplotlib](http://matplotlib.org/): A Python Figure making and Plotting Software "
   ]
  },
  {
   "cell_type": "code",
   "execution_count": 1,
   "metadata": {
    "collapsed": false
   },
   "outputs": [],
   "source": [
    "import cantera as ct\n",
    "import numpy as np\n",
    "import matplotlib.pyplot as plt\n",
    "%matplotlib notebook"
   ]
  },
  {
   "cell_type": "markdown",
   "metadata": {},
   "source": [
    "### Intitialize Chemical Mechanism"
   ]
  },
  {
   "cell_type": "code",
   "execution_count": 2,
   "metadata": {
    "collapsed": true
   },
   "outputs": [],
   "source": [
    "gas1 = ct.Solution('gri30.xml')"
   ]
  },
  {
   "cell_type": "markdown",
   "metadata": {},
   "source": [
    "### Initialize Gas Mixture"
   ]
  },
  {
   "cell_type": "code",
   "execution_count": 5,
   "metadata": {
    "collapsed": false
   },
   "outputs": [
    {
     "name": "stdout",
     "output_type": "stream",
     "text": [
      "\n",
      "  gri30:\n",
      "\n",
      "       temperature             300  K\n",
      "          pressure          101325  Pa\n",
      "           density         1.12252  kg/m^3\n",
      "  mean mol. weight         27.6332  amu\n",
      "\n",
      "                          1 kg            1 kmol\n",
      "                       -----------      ------------\n",
      "          enthalpy     -2.5459e+05       -7.035e+06     J\n",
      "   internal energy     -3.4486e+05       -9.529e+06     J\n",
      "           entropy          7247.8        2.003e+05     J/K\n",
      "    Gibbs function     -2.4289e+06       -6.712e+07     J\n",
      " heat capacity c_p          1077.3        2.977e+04     J/K\n",
      " heat capacity c_v          776.45        2.146e+04     J/K\n",
      "\n",
      "                           X                 Y          Chem. Pot. / RT\n",
      "                     -------------     ------------     ------------\n",
      "                O2       0.190114         0.220149         -26.3339\n",
      "               CH4       0.095057        0.0551863         -54.6761\n",
      "                N2       0.714829         0.724665         -23.3688\n",
      "     [  +50 minor]              0                0\n",
      "\n"
     ]
    }
   ],
   "source": [
    "phi = 1\n",
    "gas1.TP = 300, 101325   # [K], [Pa]\n",
    "gas1.set_equivalence_ratio(phi,'CH4','O2:1,N2:3.76')\n",
    "Enthalpy_initial = gas1.enthalpy_mass\n",
    "Y_f_initial = gas1.mass_fraction_dict()['CH4']\n",
    "gas1()"
   ]
  },
  {
   "cell_type": "markdown",
   "metadata": {},
   "source": [
    "### Allow Gas Mixture to Equilibrate"
   ]
  },
  {
   "cell_type": "code",
   "execution_count": 6,
   "metadata": {
    "collapsed": false,
    "scrolled": true
   },
   "outputs": [
    {
     "name": "stdout",
     "output_type": "stream",
     "text": [
      "0.0551863245605\n",
      "The Heat of Combustion is 50.03 [MJ/kg]\n"
     ]
    }
   ],
   "source": [
    "gas1.equilibrate('TP')\n",
    "Enthalpy_final = gas1.enthalpy_mass\n",
    "print Y_f_initial\n",
    "print \"The Heat of Combustion is {0:.2f} [MJ/kg]\".format((Enthalpy_initial-Enthalpy_final)/Y_f_initial*1e-6)"
   ]
  },
  {
   "cell_type": "code",
   "execution_count": null,
   "metadata": {
    "collapsed": true
   },
   "outputs": [],
   "source": []
  }
 ],
 "metadata": {
  "anaconda-cloud": {},
  "kernelspec": {
   "display_name": "Python 2",
   "language": "python",
   "name": "python2"
  },
  "language_info": {
   "codemirror_mode": {
    "name": "ipython",
    "version": 2
   },
   "file_extension": ".py",
   "mimetype": "text/x-python",
   "name": "python",
   "nbconvert_exporter": "python",
   "pygments_lexer": "ipython2",
   "version": "2.7.13"
  }
 },
 "nbformat": 4,
 "nbformat_minor": 0
}

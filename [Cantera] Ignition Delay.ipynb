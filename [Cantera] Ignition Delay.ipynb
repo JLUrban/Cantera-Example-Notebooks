{
 "cells": [
  {
   "cell_type": "markdown",
   "metadata": {},
   "source": [
    "# Calculating Ignition Delay Time (In Progress)\n",
    "*Daniel I Pineda, James L Urban, and Carlos Fernandez-Pello*, 2017"
   ]
  },
  {
   "cell_type": "markdown",
   "metadata": {},
   "source": [
    "### Ignition Delay Time\n",
    "In this example, we go over the concept of ignition delay time, defined here as the time it takes for a combustible mixture to increase in temperature by 400 K. Different fuels display different ignition behavior depending on the temperature, pressure, and equivalence ratio. Unlike adiabatic flame temperature, chemical reactions and chemical reaction rates are relevant here; a chemical mechanism is a \"map of possible pathways\" from reactants to products. This code has been adapted from an [example reactor code](http://www.cantera.org/docs/sphinx/html/cython/examples/reactors_reactor1.html) available at the Cantera website. "
   ]
  },
  {
   "cell_type": "markdown",
   "metadata": {},
   "source": [
    "### Import Packages\n",
    "- [cantera](http://www.cantera.org/docs/sphinx/html/index.html): A Combustion Chemistry Python Module \n",
    "    - Chemical Equilibrium\n",
    "    - 1-D Flame Speed\n",
    "    - Surface Chemistry\n",
    "- [numpy](http://www.numpy.org/): A Mathematical Function Libary (similiar functions to MATLAB) \n",
    "    - Linear Algegra\n",
    "    - Root Finding\n",
    "    - Simple Data Analysis\n",
    "- [matplotlib](http://matplotlib.org/): A Python Figure making and Plotting Software "
   ]
  },
  {
   "cell_type": "code",
   "execution_count": 1,
   "metadata": {
    "collapsed": true
   },
   "outputs": [],
   "source": [
    "import cantera as ct\n",
    "import numpy as np\n",
    "import matplotlib.pyplot as plt\n",
    "%matplotlib notebook"
   ]
  },
  {
   "cell_type": "markdown",
   "metadata": {},
   "source": [
    "### Intitialize Gas Object\n",
    "For this example we will initialize a gas object (\"`igGas`\") using the [GRI-MECH 3.0 mechanism](http://combustion.berkeley.edu/gri-mech/version30/text30.html), which is a chemical kinetic mechanism optimized for natural gas combustion. "
   ]
  },
  {
   "cell_type": "code",
   "execution_count": 2,
   "metadata": {
    "collapsed": true
   },
   "outputs": [],
   "source": [
    "igGas = ct.Solution('gri30.xml')"
   ]
  },
  {
   "cell_type": "markdown",
   "metadata": {},
   "source": [
    "### Set Initial Gas Mixture and Conditions\n",
    "As a first example, we will first examine a mixture of methane and oxygen in argon with the following conditions:\n",
    "- Composition: Stoichiometric methane ($CH_4$) and oxygen ($O_2$) with argon ($Ar$) as the bath gas. Ignition delay experiments are often carried out in an inert bath gas to isolate specific reactions and better examine the kinetics. \n",
    "- $T = 1500~K$\n",
    "- $P = 101.325~kPa$"
   ]
  },
  {
   "cell_type": "code",
   "execution_count": 3,
   "metadata": {
    "collapsed": false
   },
   "outputs": [],
   "source": [
    "Tinit_ig = 1500 # Kelvin\n",
    "Pinit_ig = 111325 # Pascals\n",
    "igGas.TPX = Tinit_ig, Pinit_ig, \"CH4:3.3,O2:6.7,AR:90\""
   ]
  },
  {
   "cell_type": "markdown",
   "metadata": {},
   "source": [
    "### Set up a reactor object and reactor network\n",
    "In Cantera, there are [different classes of zero-dimensional reactors depending on the system conditions you want to simulate](http://www.cantera.org/docs/sphinx/html/cython/zerodim.html). These reactors keep track of the temperature, pressure, species mole fractions, and other conditions inside of them. They can have surfaces, inlets and outlets, and moveable walls. For this example, we assume an adiabatic constant pressure reactor with an ideal gas equation of state.\n",
    "\n",
    "Reactors can be placed in reactor networks on their own or with other reactors, and these networks can be advanced in time to run kinetics simulations.  \n",
    "\n",
    "We initialize the reactor `igReactor` with the `igGas` we previously initialized in the last step, and we place `igReactor` in the reactor network `igReactorNetwork`. After that, we specify some variables to keep track of `igReactorNetwork` and species mole fractions as we advance the simulation time. We initialize `time` at `0.0` seconds and specify the maximum number of steps we want the simulation to take with `numSteps`. Then we initialize the variables `times` and `data` to keep track of the simulation time, temperature, and select species concentrations for all of these steps. Lastly, we initialize the variable where ignition delay time will be stored, `tIgn` as zero. "
   ]
  },
  {
   "cell_type": "code",
   "execution_count": 4,
   "metadata": {
    "collapsed": false
   },
   "outputs": [],
   "source": [
    "igReactor = ct.IdealGasConstPressureReactor(igGas)\n",
    "igReactorNetwork = ct.ReactorNet([igReactor])\n",
    "time = 0.0\n",
    "numSteps = 100000\n",
    "times = np.zeros(numSteps)\n",
    "data = np.zeros((numSteps, 11))\n",
    "tIgn = 0"
   ]
  },
  {
   "cell_type": "markdown",
   "metadata": {},
   "source": [
    "### Advance the simulation in a `for` loop\n",
    "Here, we advance the simualtion according to a fixed time step of `1.e-7` and use the `advance` function of the `ReactorNet` class to do so. At each timestep, the simulation time, temperature, and species mole fractions are recorded into the variables we initialized in the last step. Every timestep, we check to see if the reactor temperature has increased by 400 K. If it has, we change the assignment of `tIgn` to a value other than zero. Thanks to the equality check in the conditional statement, `tIgn` will not be overwritten in subsequent timesteps. "
   ]
  },
  {
   "cell_type": "code",
   "execution_count": 6,
   "metadata": {
    "collapsed": false
   },
   "outputs": [
    {
     "name": "stdout",
     "output_type": "stream",
     "text": [
      "Calculated Ignition Delay is = 3.0369 ms\n"
     ]
    }
   ],
   "source": [
    "for n in range(numSteps):\n",
    "    time += 1.e-7\n",
    "    igReactorNetwork.advance(time)\n",
    "    times[n] = time * 1e6 # time in us\n",
    "    data[n,0] = igReactor.T # reactor temperature in K\n",
    "    data[n,1:] = \\\n",
    "        igReactor.thermo['OH', 'H', 'O','H2','CH3', 'CH4', 'O2','H2O','CO','CO2'].X # species mole fractions\n",
    "    if ((igReactor.T - Tinit_ig) > 400) and (tIgn == 0): # check to see if temperature has increased by 400 K\n",
    "        tIgn = time*1e3 \n",
    "        print(\"Calculated Ignition Delay is = \" + str(tIgn) + \" ms\")\n",
    "    if ((time == 1.e-7*numSteps) and (tIgn == 0)):\n",
    "        print(\"Mixture did not ignite in the simulation time alotted.\")\n",
    "\n",
    "#np.savetxt(\"data.csv\", data, delimiter=\",\")"
   ]
  },
  {
   "cell_type": "code",
   "execution_count": null,
   "metadata": {
    "collapsed": true
   },
   "outputs": [],
   "source": []
  }
 ],
 "metadata": {
  "kernelspec": {
   "display_name": "Python 2",
   "language": "python",
   "name": "python2"
  },
  "language_info": {
   "codemirror_mode": {
    "name": "ipython",
    "version": 2
   },
   "file_extension": ".py",
   "mimetype": "text/x-python",
   "name": "python",
   "nbconvert_exporter": "python",
   "pygments_lexer": "ipython2",
   "version": "2.7.13"
  }
 },
 "nbformat": 4,
 "nbformat_minor": 2
}
